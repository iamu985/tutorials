{
  "nbformat": 4,
  "nbformat_minor": 0,
  "metadata": {
    "colab": {
      "name": "tutorial_1.ipynb",
      "provenance": [],
      "authorship_tag": "ABX9TyMP1wJ6IVUf/ot8nyUdP3wJ",
      "include_colab_link": true
    },
    "kernelspec": {
      "name": "python3",
      "display_name": "Python 3"
    },
    "language_info": {
      "name": "python"
    }
  },
  "cells": [
    {
      "cell_type": "markdown",
      "metadata": {
        "id": "view-in-github",
        "colab_type": "text"
      },
      "source": [
        "<a href=\"https://colab.research.google.com/github/iamu985/tutorials/blob/main/tutorial_1.ipynb\" target=\"_parent\"><img src=\"https://colab.research.google.com/assets/colab-badge.svg\" alt=\"Open In Colab\"/></a>"
      ]
    },
    {
      "cell_type": "code",
      "execution_count": null,
      "metadata": {
        "id": "kIg-rlI3IJTi"
      },
      "outputs": [],
      "source": [
        "'''\n",
        "This is a docstring.\n",
        "It is a multiline comment where we can write whatever we want and the program won't do anything\n",
        "'''\n",
        "\n",
        "# A comment is denoted with  a hashtag '#' it is not multiline which means it cannot be written on multi lines like docstring\n"
      ]
    },
    {
      "cell_type": "markdown",
      "source": [
        "This is our first topic.<br>\n",
        "# Array vs Tuple in python\n",
        "- In python array is called list.\n",
        "- The major difference between array or list and tuple is that the list or array is dynamic in nature and tuple is not dynamic in nature. It means we can change any items inside an array but we cannot change any items inside tuple."
      ],
      "metadata": {
        "id": "s_UZQsNpIuL6"
      }
    },
    {
      "cell_type": "code",
      "source": [
        "# Demo of array\n",
        "name = ['frank', 'nischal', 'aaditya']\n",
        "name_tuple = \"frank\", \"nischal\", \"aaditya\" # this is what sahitya wrote on her first attempt. What she thought was an array was actually a tuple.\n",
        "print('Output')\n",
        "print(\"Array: \", name)\n",
        "print(\"Tuple: \", name_tuple )"
      ],
      "metadata": {
        "colab": {
          "base_uri": "https://localhost:8080/"
        },
        "id": "Xkcyi2vzJQXC",
        "outputId": "2fb5d749-ac0e-4d39-ee16-a27b55c5ae43"
      },
      "execution_count": null,
      "outputs": [
        {
          "output_type": "stream",
          "name": "stdout",
          "text": [
            "Output\n",
            "Array:  ['frank', 'nischal', 'aaditya']\n",
            "Tuple:  ('frank', 'nischal', 'aaditya')\n"
          ]
        }
      ]
    },
    {
      "cell_type": "markdown",
      "source": [
        "You can see the difference between an array and tuple. <br>\n",
        "The array is started with [ ] big brackets and the tuple starts with ( ) parenthesis.<br>\n",
        "In python there are many ways to do one thing.<br><br>\n",
        "###<u> Declaring an Array<u>\n",
        "We will go through two ways to declare an array in python.\n",
        "- By using `list()` function\n",
        "- By using `[]` box bracket."
      ],
      "metadata": {
        "id": "xIdYMko_Jyue"
      }
    },
    {
      "cell_type": "code",
      "source": [
        "# list() function\n",
        "array_list = list()\n",
        "\n",
        "#[] box bracket\n",
        "array_box = []\n",
        "print('Output')\n",
        "print(\"List Function: \", array_list)\n",
        "print(\"Box Bracket: \", array_box)"
      ],
      "metadata": {
        "colab": {
          "base_uri": "https://localhost:8080/"
        },
        "id": "LLClPnoUJsEq",
        "outputId": "fd2bcdb6-d105-49ef-eff7-3e1895e56eff"
      },
      "execution_count": null,
      "outputs": [
        {
          "output_type": "stream",
          "name": "stdout",
          "text": [
            "Output\n",
            "List Function:  []\n",
            "Box Bracket:  []\n"
          ]
        }
      ]
    },
    {
      "cell_type": "markdown",
      "source": [
        "### <u>Declaring Tuple</u>\n",
        "Now we will see two methods to declare a tuple in python. <br>\n",
        "- By using `()` parenthesis\n",
        "- By straight variable define method"
      ],
      "metadata": {
        "id": "q9SDo-14MAac"
      }
    },
    {
      "cell_type": "code",
      "source": [
        "# () parenthesis\n",
        "tuple_parenthesis = ('frank', 'nischal', 'aaditya')\n",
        "\n",
        "# straight variable define\n",
        "tuple_variable = \"frank\", \"nischal\", \"aaditya\"\n",
        "\n",
        "print('Output')\n",
        "print('Parenthesis: ', tuple_parenthesis)\n",
        "print(\"Straight: \", tuple_variable)"
      ],
      "metadata": {
        "colab": {
          "base_uri": "https://localhost:8080/"
        },
        "id": "W5tYwaWaK1IJ",
        "outputId": "aa32a534-2860-459b-a3ba-0439768059cb"
      },
      "execution_count": null,
      "outputs": [
        {
          "output_type": "stream",
          "name": "stdout",
          "text": [
            "Output\n",
            "Parenthesis:  ('frank', 'nischal', 'aaditya')\n",
            "Straight:  ('frank', 'nischal', 'aaditya')\n"
          ]
        }
      ]
    },
    {
      "cell_type": "markdown",
      "source": [
        "*Note that \" \" and ' ' is same in python. It makes no difference but you cannot use ' \" or \" ' it is illegal*\n",
        "\n",
        "Now for a practical demonstration of tuple vs array.\n",
        "\n"
      ],
      "metadata": {
        "id": "WMX00v04Mrwq"
      }
    },
    {
      "cell_type": "code",
      "source": [
        "# tuple vs array\n",
        "tuple_name = \"frank\", \"aaditya\", \"nischal\"\n",
        "list_name = ['frank', 'aaditya', 'nischal']\n",
        "\n",
        "#tuple is not dynamic\n",
        "#array is dyanamic\n",
        "\n",
        "# we can insert and delete elements in an array\n",
        "# but we cannot insert or delete elements in tuple\n",
        "\n",
        "list_name.append(\"sahitya\")\n",
        "list_name.append(\"treeja\")\n",
        "print(f\"List: {list_name}\") # I am using python string formatting, here f'' stands for format we will cover it later\n",
        "\n",
        "tuple_name[0] = 'sahitya' #here i am trying to change frank to sahitya\n",
        "print(f'Tuple: {tuple_name}') # but this will give out an error because we cannot change elements in tuple"
      ],
      "metadata": {
        "colab": {
          "base_uri": "https://localhost:8080/",
          "height": 232
        },
        "id": "uepVqfm0Mp17",
        "outputId": "8c7541c1-12f8-42d4-f7fc-40d97cbcf636"
      },
      "execution_count": null,
      "outputs": [
        {
          "output_type": "stream",
          "name": "stdout",
          "text": [
            "List: ['frank', 'aaditya', 'nischal', 'sahitya', 'treeja']\n"
          ]
        },
        {
          "output_type": "error",
          "ename": "TypeError",
          "evalue": "ignored",
          "traceback": [
            "\u001b[0;31m---------------------------------------------------------------------------\u001b[0m",
            "\u001b[0;31mTypeError\u001b[0m                                 Traceback (most recent call last)",
            "\u001b[0;32m<ipython-input-8-1070372e3a00>\u001b[0m in \u001b[0;36m<module>\u001b[0;34m()\u001b[0m\n\u001b[1;32m     13\u001b[0m \u001b[0mprint\u001b[0m\u001b[0;34m(\u001b[0m\u001b[0;34mf\"List: {list_name}\"\u001b[0m\u001b[0;34m)\u001b[0m \u001b[0;31m# I am using python string formatting here f'' stands for format we will cover it later\u001b[0m\u001b[0;34m\u001b[0m\u001b[0;34m\u001b[0m\u001b[0m\n\u001b[1;32m     14\u001b[0m \u001b[0;34m\u001b[0m\u001b[0m\n\u001b[0;32m---> 15\u001b[0;31m \u001b[0mtuple_name\u001b[0m\u001b[0;34m[\u001b[0m\u001b[0;36m0\u001b[0m\u001b[0;34m]\u001b[0m \u001b[0;34m=\u001b[0m \u001b[0;34m'sahitya'\u001b[0m\u001b[0;34m\u001b[0m\u001b[0;34m\u001b[0m\u001b[0m\n\u001b[0m\u001b[1;32m     16\u001b[0m \u001b[0mprint\u001b[0m\u001b[0;34m(\u001b[0m\u001b[0;34mf'Tuple: {tuple_name}'\u001b[0m\u001b[0;34m)\u001b[0m \u001b[0;31m#this will give out an error\u001b[0m\u001b[0;34m\u001b[0m\u001b[0;34m\u001b[0m\u001b[0m\n",
            "\u001b[0;31mTypeError\u001b[0m: 'tuple' object does not support item assignment"
          ]
        }
      ]
    },
    {
      "cell_type": "markdown",
      "source": [
        "Here we had output for list or array but we received an error message for tuple because as we see in the error message tuple object does not support item assignment. Meaning we can't assign, change, insert or delete items from a tuple."
      ],
      "metadata": {
        "id": "OloOifM1OASI"
      }
    },
    {
      "cell_type": "markdown",
      "source": [
        "## For Loop\n",
        "Syntax of for loop:<br>\n",
        "\n",
        "\n",
        "```\n",
        "for <variable_name> in <condition>:\n",
        "  #do something\n",
        "```\n",
        "The tab here denotes an empty space block.\n",
        "Always remember to indent in python, since it denotes the start of the block. Like in C we use { } curly brackets to denote a functioning block we do it with indentations in python.\n",
        "\n",
        "```\n",
        "// for loop in C printing number from 0 to 10\n",
        "for (int i=0; i<= 10; i++){\n",
        "    printf(\"%d\", i);\n",
        "}\n",
        "```\n",
        "\n",
        "```\n",
        "# for loop in Python printing number from 0 to 10\n",
        "for i in range(10):\n",
        "  printf(i)\n",
        "```"
      ],
      "metadata": {
        "id": "2aZaT84SOoHr"
      }
    },
    {
      "cell_type": "code",
      "source": [
        "# to print a range of 10 numbers\n",
        "for i in range(10):\n",
        "  print(i)\n"
      ],
      "metadata": {
        "colab": {
          "base_uri": "https://localhost:8080/"
        },
        "id": "3MD0jpgFN9d9",
        "outputId": "73f3fb6a-6223-40d3-d638-af2007de30f2"
      },
      "execution_count": null,
      "outputs": [
        {
          "output_type": "stream",
          "name": "stdout",
          "text": [
            "0\n",
            "1\n",
            "2\n",
            "3\n",
            "4\n",
            "5\n",
            "6\n",
            "7\n",
            "8\n",
            "9\n"
          ]
        }
      ]
    },
    {
      "cell_type": "code",
      "source": [
        "# to print each elements in a list\n",
        "fruits = ['apple', 'mango', 'pomogranate', 'watermelon', 'banana']\n",
        "for fruit in fruits:\n",
        "  print(fruit)"
      ],
      "metadata": {
        "colab": {
          "base_uri": "https://localhost:8080/"
        },
        "id": "yG7htWwyPWQW",
        "outputId": "5bcc9514-3c41-4e0b-f27c-223d0892d964"
      },
      "execution_count": null,
      "outputs": [
        {
          "output_type": "stream",
          "name": "stdout",
          "text": [
            "apple\n",
            "mango\n",
            "pomogranate\n",
            "watermelon\n",
            "banana\n"
          ]
        }
      ]
    },
    {
      "cell_type": "markdown",
      "source": [
        "<p>In python every datatype is an object. What is an object, you ask? That will come later when we go through `class` and `object oriented programming`, for now just take my words as bible and believe that everything in python is an object.</p>\n",
        "Now object consists of methods and functions. If I consider a pencil to be an object, its corresponding methods would be as such:<br>\n",
        "\n",
        "*   Write Method\n",
        "*   Erase Method (occassionally) if it has an eraser at the top.\n",
        "\n",
        "We can describe pencil as an object that can write and can occasionally erase if the condition is met.<br>\n",
        "So as I mentioned every datatype is an object, a string, an integer, a float, an array or list, everything is an object. And every object has its own sets of functions and methods.\n",
        "\n",
        "### <u>Functions and Methods of an Array Object</u>\n",
        "In an array we can do CRUD quite easily, CRUD stands for Create, Read, Update and Delete. Every data storing datatype must be able to perform CRUD operations. \n",
        "\n",
        "#### **C or Create in Array**\n",
        "Any array can be empty in python at start or it can have some custom data values initially. To declare an empty array just give a variable name and [ ] box brackets.\n",
        "\n",
        "```\n",
        "array = []\n",
        "```\n",
        "\n",
        "#### **R or Read in Array**\n",
        "Values from array can be read by accessing the index or location of the item in the array.\n",
        "\n",
        "```\n",
        "name = ['frank', 'nischal', 'aaditya']\n",
        "\n",
        "# indexing always starts from 0\n",
        "# here the first items location is 0 i.e. frank , 1 i.e. nischal and so on.\n",
        "\n",
        "# to access third item\n",
        "print(name[2])\n",
        "\n",
        "#outputs 'aaditya'\n",
        "```\n",
        "\n",
        "#### **U or Update in Array**\n",
        "To update or insert items in an array or list in python, we have `.append` method.\n",
        "\n",
        "```\n",
        "name = ['frank']\n",
        "name.append('nischal')\n",
        "print(name)\n",
        "\n",
        "# outputs: ['frank', 'nischal']\n",
        "\n",
        "```\n",
        "\n",
        "`append` method takes only single argument and that argument can be of any data type. It can be a `string`, an `integer` or a `float`, It can even take `array` as an argument, meaning we can easily store arrays inside an array.\n",
        "\n",
        "```\n",
        "# program to insert boys and girls array in student array\n",
        "\n",
        "boys = ['frank', 'nischal', 'aaditya']\n",
        "girls = ['sahitya', 'treeja', 'sang']\n",
        "students = [] # an empty array\n",
        "\n",
        "students.append(boys)\n",
        "students.append(girls)\n",
        "```\n",
        "\n",
        "\n"
      ],
      "metadata": {
        "id": "zYYc4uEh0eXK"
      }
    },
    {
      "cell_type": "code",
      "source": [
        "# Program to insert boys and girls array in student array\n",
        "boys = ['frank', 'nischal', 'aaditya']\n",
        "girls = ['sahitya', 'treeja', 'sang']\n",
        "students = [] #empty array\n",
        "\n",
        "#appending boys and girls in students\n",
        "students.append(boys)\n",
        "students.append(girls)\n",
        "\n",
        "print(students)"
      ],
      "metadata": {
        "id": "e_kpcTKEPiRv",
        "colab": {
          "base_uri": "https://localhost:8080/"
        },
        "outputId": "4fe67b24-1ee5-4c20-e49d-a5bee64c2eab"
      },
      "execution_count": 1,
      "outputs": [
        {
          "output_type": "stream",
          "name": "stdout",
          "text": [
            "[['frank', 'nischal', 'aaditya'], ['sahitya', 'treeja', 'sang']]\n"
          ]
        }
      ]
    },
    {
      "cell_type": "code",
      "source": [
        ""
      ],
      "metadata": {
        "id": "Lrr4WGRK9poi"
      },
      "execution_count": null,
      "outputs": []
    }
  ]
}