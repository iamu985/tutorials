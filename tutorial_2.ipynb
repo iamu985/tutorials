{
 "cells": [
  {
   "cell_type": "code",
   "execution_count": 1,
   "id": "7cb229ac",
   "metadata": {},
   "outputs": [
    {
     "data": {
      "text/plain": [
       "'\\nFunctions and Fibonacci number sequence\\nFollowed by Even Numbers\\n'"
      ]
     },
     "execution_count": 1,
     "metadata": {},
     "output_type": "execute_result"
    }
   ],
   "source": [
    "'''\n",
    "Functions and Fibonacci number sequence\n",
    "Followed by Even Numbers\n",
    "'''\n"
   ]
  },
  {
   "cell_type": "markdown",
   "id": "8642ef37",
   "metadata": {},
   "source": [
    "# Functions in Python\n",
    "- Functions in python are a piece of code that does a particular job or task. \n",
    "- It is primarily used to make the code easier to read and follow\n",
    "- It removes the burden of writing repeative pieces of code\n",
    "\n",
    "## Syntax\n",
    "`def` is the keyword to define a function in python\n",
    "\n",
    "```\n",
    "def function():\n",
    "    #do something\n",
    "```"
   ]
  },
  {
   "cell_type": "code",
   "execution_count": 4,
   "id": "1458f70d",
   "metadata": {},
   "outputs": [],
   "source": [
    "#implementation of function\n",
    "def display_name(name):\n",
    "    print(f\"Hello Mr. {name}\")"
   ]
  },
  {
   "cell_type": "code",
   "execution_count": 5,
   "id": "c10ca75c",
   "metadata": {},
   "outputs": [
    {
     "name": "stdout",
     "output_type": "stream",
     "text": [
      "Hello Mr. Frank Brano Gomes\n"
     ]
    }
   ],
   "source": [
    "display_name(\"Frank Brano Gomes\")"
   ]
  },
  {
   "cell_type": "markdown",
   "id": "45d03008",
   "metadata": {},
   "source": [
    "### Types of Functions in Python\n",
    "A function in python can be a `none` return type i.e. it returns nothing or it can be a `return` type function i.e. it returns something, it can be anything, an `int`, `str` or `array`.\n",
    "A function can also be differentiated on the basis of the argument it takes. If it takes no argument then it is called `no parameter` function and if it takes parameter it is called `parameterised` function."
   ]
  },
  {
   "cell_type": "code",
   "execution_count": 16,
   "id": "992dec66",
   "metadata": {},
   "outputs": [
    {
     "name": "stdout",
     "output_type": "stream",
     "text": [
      "No return function:\n",
      "Hello Mr. frank\n",
      "\n",
      "Return Function: frank\n",
      "\n",
      "No parameter function\n",
      "This is no parameter function\n",
      "\n",
      "parameterised function:\n",
      "Hello Mr. frank\n"
     ]
    }
   ],
   "source": [
    "#No return function\n",
    "def no_return_function(name):\n",
    "    print(f\"Hello Mr. {name}\\n\")\n",
    "\n",
    "def return_function(name):\n",
    "    return name\n",
    "\n",
    "def no_parameter_function():\n",
    "    print(\"This is no parameter function\\n\")\n",
    "\n",
    "def parameterised_function(name):\n",
    "    print(f\"Hello Mr. {name}\")\n",
    "\n",
    "name = \"frank\"\n",
    "print('No return function:')\n",
    "no_return_function(name)\n",
    "print(f\"Return Function: {return_function(name)}\\n\")\n",
    "print(\"No parameter function\")\n",
    "no_parameter_function()\n",
    "print(\"parameterised function:\")\n",
    "parameterised_function(name)"
   ]
  },
  {
   "cell_type": "markdown",
   "id": "f118f745",
   "metadata": {},
   "source": [
    "# Fibonacci Sequence\n",
    "We have gathered enough concepts on python that we can attempt the fibonacci sequence problem.\n",
    "A fibonacci sequence is a set of numbers in which the next item is always the sum of the two previous numbers.\n",
    "Say we have two numbers 0 and 1, with these numbers we can get the fibonacci sequence.\n",
    "0, 1, 1, 2, 3, 5, 8, 13, ...., n\n",
    "Here the third item is the sum of 0 and 1, similarly the 4th item is the sum of 1 and 1, i.e, 2nd and 3rd item and so on.\n",
    " \n",
    "Below is the program that prints a fibonacci sequence of any given range."
   ]
  },
  {
   "cell_type": "code",
   "execution_count": 19,
   "id": "f7d11a1a",
   "metadata": {},
   "outputs": [
    {
     "name": "stdout",
     "output_type": "stream",
     "text": [
      "0 1 1 2 3 5 8 13 21 34 55 89 144 233 377 610 987 1597 2584 4181 "
     ]
    }
   ],
   "source": [
    "#fibonacci sequence\n",
    "def fibo(limit): #takes a range of numbers\n",
    "    a = 0\n",
    "    b = 1\n",
    "    print(a, end=\" \")\n",
    "    print(b, end=\" \")\n",
    "    for i in range(limit-2):\n",
    "        c = a + b\n",
    "        print(c, end=\" \")\n",
    "        a = b\n",
    "        b = c\n",
    "\n",
    "#calling function fibo to pring 20 numbers from fibonacci sequence\n",
    "fibo(20)"
   ]
  },
  {
   "cell_type": "code",
   "execution_count": 24,
   "id": "674fc876",
   "metadata": {},
   "outputs": [],
   "source": [
    "#extra practice to check if a number is even or odd\n",
    "def even_or_odd(numb):\n",
    "    if numb % 2 == 0:\n",
    "        return 'Even'\n",
    "    else:\n",
    "        return 'Odd'"
   ]
  },
  {
   "cell_type": "code",
   "execution_count": 26,
   "id": "1cca703a",
   "metadata": {},
   "outputs": [
    {
     "name": "stdout",
     "output_type": "stream",
     "text": [
      "Number: 72, Verdict: Even\n"
     ]
    }
   ],
   "source": [
    "#to check a random number is even or odd\n",
    "import random\n",
    "random_number = random.randint(0, 100) #gives a random number from 0 to 99\n",
    "\n",
    "#calling even_or_odd functione\n",
    "print(f\"Number: {random_number}, Verdict: {even_or_odd(random_number)}\")"
   ]
  },
  {
   "cell_type": "code",
   "execution_count": null,
   "id": "e2f83645",
   "metadata": {},
   "outputs": [],
   "source": []
  },
  {
   "cell_type": "code",
   "execution_count": null,
   "id": "71b3b51d",
   "metadata": {},
   "outputs": [],
   "source": []
  }
 ],
 "metadata": {
  "kernelspec": {
   "display_name": "Python 3",
   "language": "python",
   "name": "python3"
  },
  "language_info": {
   "codemirror_mode": {
    "name": "ipython",
    "version": 3
   },
   "file_extension": ".py",
   "mimetype": "text/x-python",
   "name": "python",
   "nbconvert_exporter": "python",
   "pygments_lexer": "ipython3",
   "version": "3.9.6"
  }
 },
 "nbformat": 4,
 "nbformat_minor": 5
}
